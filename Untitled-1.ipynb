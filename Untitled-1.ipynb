{
 "cells": [
  {
   "cell_type": "code",
   "execution_count": 4,
   "metadata": {},
   "outputs": [],
   "source": [
    "import pandas as pd\n",
    "import joblib\n",
    "import xgboost\n",
    "import os"
   ]
  },
  {
   "cell_type": "code",
   "execution_count": 23,
   "metadata": {},
   "outputs": [],
   "source": [
    "modelgn = {}\n",
    "for file in os.listdir(\"./ml_model/GN/version_1\"):\n",
    "    modelgn.update({file.split('.')[0] : joblib.load(\"./ml_model/GN/version_1/\" + file)})"
   ]
  },
  {
   "cell_type": "code",
   "execution_count": 40,
   "metadata": {},
   "outputs": [
    {
     "name": "stdout",
     "output_type": "stream",
     "text": [
      "amikacin\tXGBClassifier(base_score=0.5, booster='gbtree', colsample_bylevel=1,\n",
      "              colsample_bynode=1, colsample_bytree=1,\n",
      "              eval_metric=<function f1_score at 0x000001F64DF078B0>, gamma=0.5,\n",
      "              gpu_id=1, importance_type='gain', interaction_constraints='',\n",
      "              learning_rate=0.3, max_delta_step=0, max_depth=5,\n",
      "              min_child_weight=1, missing=nan, monotone_constraints='()',\n",
      "              n_estimators=1000, n_jobs=16, num_parallel_tree=1, random_state=0,\n",
      "              reg_alpha=0, reg_lambda=1, scale_pos_weight=1, subsample=1,\n",
      "              tree_method='gpu_hist', validate_parameters=1, verbosity=0)\n",
      "amoxicillin_clavulanic acid\tXGBClassifier(base_score=0.5, booster='gbtree', colsample_bylevel=1,\n",
      "              colsample_bynode=1, colsample_bytree=0.7,\n",
      "              eval_metric=<function f1_score at 0x000001F64DF078B0>, gamma=2,\n",
      "              gpu_id=1, importance_type='gain', interaction_constraints='',\n",
      "              learning_rate=0.1, max_delta_step=0, max_depth=6,\n",
      "              min_child_weight=1, missing=nan, monotone_constraints='()',\n",
      "              n_estimators=1000, n_jobs=16, num_parallel_tree=1, random_state=0,\n",
      "              reg_alpha=0, reg_lambda=1, scale_pos_weight=1, subsample=1,\n",
      "              tree_method='gpu_hist', validate_parameters=1, verbosity=0)\n",
      "cefalexin\tXGBClassifier(base_score=0.5, booster='gbtree', colsample_bylevel=1,\n",
      "              colsample_bynode=1, colsample_bytree=0.7,\n",
      "              eval_metric=<function f1_score at 0x000001F64DF078B0>, gamma=2,\n",
      "              gpu_id=1, importance_type='gain', interaction_constraints='',\n",
      "              learning_rate=0.3, max_delta_step=0, max_depth=6,\n",
      "              min_child_weight=1, missing=nan, monotone_constraints='()',\n",
      "              n_estimators=1000, n_jobs=16, num_parallel_tree=1, random_state=0,\n",
      "              reg_alpha=0, reg_lambda=1, scale_pos_weight=1, subsample=0.5,\n",
      "              tree_method='gpu_hist', validate_parameters=1, verbosity=0)\n",
      "cefovecin\tXGBClassifier(base_score=0.5, booster='gbtree', colsample_bylevel=1,\n",
      "              colsample_bynode=1, colsample_bytree=0.5,\n",
      "              eval_metric=<function f1_score at 0x000001F64DF078B0>, gamma=0.5,\n",
      "              gpu_id=1, importance_type='gain', interaction_constraints='',\n",
      "              learning_rate=0.3, max_delta_step=0, max_depth=5,\n",
      "              min_child_weight=1, missing=nan, monotone_constraints='()',\n",
      "              n_estimators=1000, n_jobs=16, num_parallel_tree=1, random_state=0,\n",
      "              reg_alpha=0, reg_lambda=1, scale_pos_weight=1, subsample=1,\n",
      "              tree_method='gpu_hist', validate_parameters=1, verbosity=0)\n",
      "doxycycline\tXGBClassifier(base_score=0.5, booster='gbtree', colsample_bylevel=1,\n",
      "              colsample_bynode=1, colsample_bytree=0.5,\n",
      "              eval_metric=<function f1_score at 0x000001F64DF078B0>, gamma=2,\n",
      "              gpu_id=1, importance_type='gain', interaction_constraints='',\n",
      "              learning_rate=0.3, max_delta_step=0, max_depth=5,\n",
      "              min_child_weight=1, missing=nan, monotone_constraints='()',\n",
      "              n_estimators=1000, n_jobs=16, num_parallel_tree=1, random_state=0,\n",
      "              reg_alpha=0, reg_lambda=1, scale_pos_weight=1, subsample=0.7,\n",
      "              tree_method='gpu_hist', validate_parameters=1, verbosity=0)\n",
      "enrofloxacin\tXGBClassifier(base_score=0.5, booster='gbtree', colsample_bylevel=1,\n",
      "              colsample_bynode=1, colsample_bytree=0.5,\n",
      "              eval_metric=<function f1_score at 0x000001F64DF078B0>, gamma=0.5,\n",
      "              gpu_id=1, importance_type='gain', interaction_constraints='',\n",
      "              learning_rate=0.1, max_delta_step=0, max_depth=7,\n",
      "              min_child_weight=1, missing=nan, monotone_constraints='()',\n",
      "              n_estimators=1000, n_jobs=16, num_parallel_tree=1, random_state=0,\n",
      "              reg_alpha=0, reg_lambda=1, scale_pos_weight=1, subsample=1,\n",
      "              tree_method='gpu_hist', validate_parameters=1, verbosity=0)\n",
      "gentamicin\tXGBClassifier(base_score=0.5, booster='gbtree', colsample_bylevel=1,\n",
      "              colsample_bynode=1, colsample_bytree=0.5,\n",
      "              eval_metric=<function f1_score at 0x000001F64DF078B0>, gamma=1,\n",
      "              gpu_id=1, importance_type='gain', interaction_constraints='',\n",
      "              learning_rate=0.3, max_delta_step=0, max_depth=7,\n",
      "              min_child_weight=1, missing=nan, monotone_constraints='()',\n",
      "              n_estimators=1000, n_jobs=16, num_parallel_tree=1, random_state=0,\n",
      "              reg_alpha=0, reg_lambda=1, scale_pos_weight=1, subsample=0.7,\n",
      "              tree_method='gpu_hist', validate_parameters=1, verbosity=0)\n",
      "imipenem\tXGBClassifier(base_score=0.5, booster='gbtree', colsample_bylevel=1,\n",
      "              colsample_bynode=1, colsample_bytree=0.7,\n",
      "              eval_metric=<function f1_score at 0x000001F64DF078B0>, gamma=2,\n",
      "              gpu_id=1, importance_type='gain', interaction_constraints='',\n",
      "              learning_rate=0.1, max_delta_step=0, max_depth=6,\n",
      "              min_child_weight=1, missing=nan, monotone_constraints='()',\n",
      "              n_estimators=1000, n_jobs=16, num_parallel_tree=1, random_state=0,\n",
      "              reg_alpha=0, reg_lambda=1, scale_pos_weight=1, subsample=0.7,\n",
      "              tree_method='gpu_hist', validate_parameters=1, verbosity=0)\n",
      "marbofloxacin\tXGBClassifier(base_score=0.5, booster='gbtree', colsample_bylevel=1,\n",
      "              colsample_bynode=1, colsample_bytree=1,\n",
      "              eval_metric=<function f1_score at 0x000001F64DF078B0>, gamma=2,\n",
      "              gpu_id=1, importance_type='gain', interaction_constraints='',\n",
      "              learning_rate=0.3, max_delta_step=0, max_depth=6,\n",
      "              min_child_weight=1, missing=nan, monotone_constraints='()',\n",
      "              n_estimators=1000, n_jobs=16, num_parallel_tree=1, random_state=0,\n",
      "              reg_alpha=0, reg_lambda=1, scale_pos_weight=1, subsample=0.7,\n",
      "              tree_method='gpu_hist', validate_parameters=1, verbosity=0)\n",
      "nitrofurantoin\tXGBClassifier(base_score=0.5, booster='gbtree', colsample_bylevel=1,\n",
      "              colsample_bynode=1, colsample_bytree=1,\n",
      "              eval_metric=<function f1_score at 0x000001F64DF078B0>, gamma=1,\n",
      "              gpu_id=1, importance_type='gain', interaction_constraints='',\n",
      "              learning_rate=0.3, max_delta_step=0, max_depth=6,\n",
      "              min_child_weight=1, missing=nan, monotone_constraints='()',\n",
      "              n_estimators=1000, n_jobs=16, num_parallel_tree=1, random_state=0,\n",
      "              reg_alpha=0, reg_lambda=1, scale_pos_weight=1, subsample=0.7,\n",
      "              tree_method='gpu_hist', validate_parameters=1, verbosity=0)\n",
      "trimethoprim_sulfamethoxazole\tXGBClassifier(base_score=0.5, booster='gbtree', colsample_bylevel=1,\n",
      "              colsample_bynode=1, colsample_bytree=1,\n",
      "              eval_metric=<function f1_score at 0x000001F64DF078B0>, gamma=0.5,\n",
      "              gpu_id=1, importance_type='gain', interaction_constraints='',\n",
      "              learning_rate=0.3, max_delta_step=0, max_depth=6,\n",
      "              min_child_weight=1, missing=nan, monotone_constraints='()',\n",
      "              n_estimators=1000, n_jobs=16, num_parallel_tree=1, random_state=0,\n",
      "              reg_alpha=0, reg_lambda=1, scale_pos_weight=1, subsample=1,\n",
      "              tree_method='gpu_hist', validate_parameters=1, verbosity=0)\n"
     ]
    }
   ],
   "source": [
    "for key , value in modelgn.items():\n",
    "    print(key , value,sep='\\t') "
   ]
  },
  {
   "cell_type": "code",
   "execution_count": 31,
   "metadata": {},
   "outputs": [],
   "source": [
    "modelgp = {}\n",
    "for file in os.listdir(\"./ml_model/GP/version_1\"):\n",
    "    modelgp.update({file.split('.')[0] : joblib.load(\"./ml_model/GP/version_1/\" + file)})"
   ]
  },
  {
   "cell_type": "code",
   "execution_count": 38,
   "metadata": {},
   "outputs": [
    {
     "name": "stdout",
     "output_type": "stream",
     "text": [
      "amikacin\t1000\n",
      "amoxicillin_clavulanic acid\t1000\n",
      "cefalexin\t1000\n",
      "cefovecin\t1000\n",
      "clindamycin\t1000\n",
      "doxycycline\t1000\n",
      "enrofloxacin\t1000\n",
      "marbofloxacin\t1000\n",
      "nitrofurantoin\t1000\n",
      "trimethoprim_sulfamethoxazole\t1000\n",
      "vancomycin\t1000\n"
     ]
    }
   ],
   "source": [
    "for key , value in modelgp.items():\n",
    "    print(key , value.n_estimators,sep='\\t') "
   ]
  },
  {
   "cell_type": "code",
   "execution_count": null,
   "metadata": {},
   "outputs": [],
   "source": []
  }
 ],
 "metadata": {
  "interpreter": {
   "hash": "63fd5069d213b44bf678585dea6b12cceca9941eaf7f819626cde1f2670de90d"
  },
  "kernelspec": {
   "display_name": "Python 3.9.7 64-bit",
   "language": "python",
   "name": "python3"
  },
  "language_info": {
   "codemirror_mode": {
    "name": "ipython",
    "version": 3
   },
   "file_extension": ".py",
   "mimetype": "text/x-python",
   "name": "python",
   "nbconvert_exporter": "python",
   "pygments_lexer": "ipython3",
   "version": "3.9.7"
  },
  "orig_nbformat": 4
 },
 "nbformat": 4,
 "nbformat_minor": 2
}
