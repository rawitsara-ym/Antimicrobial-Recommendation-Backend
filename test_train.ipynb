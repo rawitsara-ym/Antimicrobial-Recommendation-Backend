{
 "cells": [
  {
   "cell_type": "code",
   "execution_count": 1,
   "metadata": {},
   "outputs": [],
   "source": [
    "import numpy as np\n",
    "import pandas as pd\n",
    "import sqlalchemy\n",
    "from xgboost import XGBClassifier\n",
    "from imblearn.over_sampling import SMOTE , ADASYN , BorderlineSMOTE , SVMSMOTE\n",
    "from sklearn.metrics import precision_score, recall_score, f1_score, accuracy_score, confusion_matrix\n",
    "from typing import Dict\n",
    "import joblib\n",
    "from dotenv import load_dotenv\n",
    "import os\n",
    "import datetime\n",
    "from src.rsmote import RSmoteKClasses\n",
    "\n",
    "from src.table_to_csv import TableToCsv"
   ]
  },
  {
   "cell_type": "code",
   "execution_count": 2,
   "metadata": {},
   "outputs": [],
   "source": [
    "# import warnings\n",
    "# warnings.filterwarnings('ignore')"
   ]
  },
  {
   "cell_type": "code",
   "execution_count": 3,
   "metadata": {},
   "outputs": [
    {
     "name": "stdout",
     "output_type": "stream",
     "text": [
      "['2-5', '7-9', '11', '15-16', '99']\n"
     ]
    }
   ],
   "source": [
    "import numpy as np\n",
    "\n",
    "import itertools\n",
    "  \n",
    "def intervals_extract(iterable):\n",
    "      \n",
    "    iterable = sorted(set(iterable))\n",
    "    for key, group in itertools.groupby(enumerate(iterable),\n",
    "    lambda t: t[1] - t[0]):\n",
    "        group = list(group)\n",
    "        if group[0][1] != group[-1][1]:\n",
    "            yield str(group[0][1]) + \"-\" + str(group[-1][1])\n",
    "        else:\n",
    "            yield str(group[0][1])\n",
    "  \n",
    "# Driver code\n",
    "l = [2, 3, 4, 5, 7, 8, 9, 11, 15, 16, 99]\n",
    "print( list(intervals_extract(l)))"
   ]
  },
  {
   "cell_type": "code",
   "execution_count": 7,
   "metadata": {},
   "outputs": [],
   "source": [
    "dotenv_path = os.path.dirname('.env')\n",
    "load_dotenv(dotenv_path)\n",
    "\n",
    "DB_HOST = os.environ.get(\"DB_HOST\")\n",
    "DB_USERNAME = os.environ.get(\"DB_USERNAME\")\n",
    "DB_PASSWORD = os.environ.get(\"DB_PASSWORD\")\n",
    "\n",
    "conn = sqlalchemy.create_engine(\n",
    "    f\"postgresql://{DB_USERNAME}:{DB_PASSWORD}@{DB_HOST}/antimicrobial_system\")"
   ]
  },
  {
   "cell_type": "code",
   "execution_count": 2,
   "metadata": {},
   "outputs": [],
   "source": [
    "class SMOTERounding:\n",
    "    def __init__(self, smote) -> None:\n",
    "        if hasattr(smote, \"fit_resample\"):\n",
    "            self.smote = smote\n",
    "        else:\n",
    "            raise Exception(\"Method fit_resample not found.\")\n",
    "\n",
    "    def fit_resample(self, X, y):\n",
    "        X_resample, y_resample = self.smote.fit_resample(\n",
    "            X.astype(np.float64), y)\n",
    "        X_resample = np.round(X_resample).astype(np.int32)\n",
    "        return X_resample, y_resample"
   ]
  },
  {
   "cell_type": "code",
   "execution_count": 3,
   "metadata": {},
   "outputs": [],
   "source": [
    "def binning_less_than(df: pd.DataFrame, column, k: int , other = \"other\") -> pd.DataFrame:\n",
    "    newdf = df.copy()\n",
    "    values = newdf[column].value_counts()\n",
    "    index = values[values < k].index\n",
    "    newdf.loc[newdf[column].isin(index),column] = other\n",
    "    return newdf\n",
    "\n",
    "def get_dummies_dataframe_columns(df_dummies: pd.DataFrame, old_df: pd.DataFrame) -> pd.DataFrame:\n",
    "    old_df = pd.get_dummies(old_df).filter(df_dummies.columns)\n",
    "    new_df = pd.DataFrame(columns=list(df_dummies.columns)).append(old_df)\n",
    "    new_df.fillna(0, inplace=True)\n",
    "    return new_df\n",
    "\n",
    "def evaluation(X, y, model, measures: Dict = None, threshold: float = .5) -> pd.DataFrame:\n",
    "    if measures is None:\n",
    "        measures = {'accuracy': lambda true, pred: accuracy_score(true, [p >= threshold for p in pred]),\n",
    "                    'precision': lambda true, pred: precision_score(true, [p >= threshold for p in pred]),\n",
    "                    'recall': lambda true, pred: recall_score(true, [p >= threshold for p in pred]),\n",
    "                    'f1': lambda true, pred: f1_score(true, [p >= threshold for p in pred]),\n",
    "                    }\n",
    "        \n",
    "    return {key : value(y, [ctrue for _, ctrue in model.predict_proba(X)])\n",
    "                           for key, value in measures.items()}"
   ]
  },
  {
   "cell_type": "code",
   "execution_count": 4,
   "metadata": {},
   "outputs": [],
   "source": [
    "def get_train_test(table: pd.DataFrame, anti_id: int):\n",
    "    query_train_id = sqlalchemy.text(\"SELECT report_id FROM public.report_train WHERE sub_type = 'train' AND antimicrobial_id = :anti_id\")\n",
    "    query_test_id = sqlalchemy.text(\"SELECT report_id FROM public.report_train WHERE sub_type = 'test' AND antimicrobial_id = :anti_id\")\n",
    "    train_id = pd.read_sql_query(query_train_id, conn, params={\"anti_id\": anti_id})[\"report_id\"]\n",
    "    test_id = pd.read_sql_query(query_test_id, conn, params={\"anti_id\": anti_id})[\"report_id\"]\n",
    "    df_train = table.loc[train_id]\n",
    "    df_test = table.loc[test_id]\n",
    "    return df_train, df_test"
   ]
  },
  {
   "cell_type": "code",
   "execution_count": 5,
   "metadata": {},
   "outputs": [],
   "source": [
    "def get_antimicrobial_ans(vitek_id: int) -> Dict:\n",
    "    query_ans = sqlalchemy.text(\"SELECT id, name FROM public.antimicrobial_answer WHERE vitek_id = :v_id ORDER BY id\")\n",
    "    ans_name = pd.read_sql_query(query_ans, conn, params={\"v_id\": vitek_id})\n",
    "    anti_id_range = [\n",
    "        np.arange(1, 12),  # GN\n",
    "        np.arange(12, 23),  # GP\n",
    "    ]\n",
    "    anti_ans = {row[0]: row[1] for row in ans_name[ans_name['id'].isin(anti_id_range[vitek_id-1])].values}\n",
    "    return anti_ans"
   ]
  },
  {
   "cell_type": "code",
   "execution_count": 9,
   "metadata": {},
   "outputs": [],
   "source": [
    "GP_SMOTE = [\n",
    "    RSmoteKClasses(random_state=0), #amikancin \n",
    "    RSmoteKClasses(random_state=0), #amoxicillin/clavulanic acid\n",
    "    BorderlineSMOTE(random_state=0,n_jobs=-1), #cefalexin\n",
    "    SMOTE(random_state=0,n_jobs=-1), #cefovecin\n",
    "    SMOTE(random_state=0,n_jobs=-1), #clindamycin\n",
    "    SVMSMOTE(random_state=0,n_jobs=-1), #doxycycline\n",
    "    RSmoteKClasses(random_state=0), #enrofloxacin\n",
    "    SMOTE(random_state=0,n_jobs=-1), #marbofloxacin\n",
    "    SVMSMOTE(random_state=0,n_jobs=-1), #nitrofurantoin\n",
    "    SMOTE(random_state=0,n_jobs=-1), #trimethoprim/sulfamethoxazole\n",
    "    ADASYN(random_state=0,n_jobs=-1) #vancomycin\n",
    "]\n",
    "\n",
    "GN_SMOTE = [\n",
    "    RSmoteKClasses(random_state=0), #amikancin \n",
    "    BorderlineSMOTE(random_state=0,n_jobs=-1), #amoxicillin/clavulanic acid\n",
    "    SMOTE(random_state=0,n_jobs=-1), #cefalexin\n",
    "    SMOTE(random_state=0,n_jobs=-1), #cefovecin\n",
    "    BorderlineSMOTE(random_state=0,n_jobs=-1), #doxycycline\n",
    "    RSmoteKClasses(random_state=0), #enrofloxacin\n",
    "    SVMSMOTE(random_state=0,n_jobs=-1), #gentamicin\n",
    "    RSmoteKClasses(random_state=0), #imipenem\n",
    "    SVMSMOTE(random_state=0,n_jobs=-1), #marbofloxacin\n",
    "    RSmoteKClasses(random_state=0), #nitrofurantoin\n",
    "    RSmoteKClasses(random_state=0), #trimethoprim/sulfamethoxazole\n",
    "]"
   ]
  },
  {
   "cell_type": "code",
   "execution_count": 27,
   "metadata": {},
   "outputs": [],
   "source": [
    "table_csv = {'GN': TableToCsv(conn, 1), 'GP': TableToCsv(conn, 2)}"
   ]
  },
  {
   "cell_type": "code",
   "execution_count": 28,
   "metadata": {},
   "outputs": [],
   "source": [
    "table_gn = binning_less_than(table_csv[\"GN\"].table, \"submitted_sample\", 10)\n",
    "table_gp = binning_less_than(table_csv[\"GP\"].table, \"submitted_sample\", 10)"
   ]
  },
  {
   "cell_type": "code",
   "execution_count": 10,
   "metadata": {},
   "outputs": [],
   "source": [
    "def lastest_version(vitek_id: int):\n",
    "    query = sqlalchemy.text(\n",
    "        \"\"\" SELECT MAX(version)\n",
    "            FROM public.model_group\n",
    "            WHERE vitek_id = :vitek_id\n",
    "        \"\"\")\n",
    "    lastest_version = pd.read_sql_query(query, conn, params={\"vitek_id\": vitek_id}).values[0][0]\n",
    "    return int(lastest_version)"
   ]
  },
  {
   "cell_type": "code",
   "execution_count": 11,
   "metadata": {},
   "outputs": [],
   "source": [
    "def compare_model_by_f1(X_test, y_test, model_path_old: str, schema_old: list, f1_new: float):\n",
    "    df_schema = pd.DataFrame(columns=schema_old)\n",
    "    X_test_dummies = get_dummies_dataframe_columns(df_schema, pd.get_dummies(X_test))\n",
    "    f1_old = evaluation(X_test_dummies, y_test, joblib.load(model_path_old))[\"f1\"]\n",
    "    if f1_new > f1_old:\n",
    "        performance = \"better\"\n",
    "    elif f1_new < f1_old:\n",
    "        performance = \"worse\"\n",
    "    else:\n",
    "        performance = \"same\"\n",
    "    return performance"
   ]
  },
  {
   "cell_type": "code",
   "execution_count": 12,
   "metadata": {},
   "outputs": [],
   "source": [
    "def insert_into_db(rows_insert: list, file_id_list: list, version: int, vitek_id: int):\n",
    "    # INSERT model\n",
    "    with conn.connect() as con:\n",
    "        query = sqlalchemy.text(\n",
    "            \"\"\"\n",
    "            INSERT INTO public.model(antimicrobial_id, schema, model_path, create_at, performance, accuracy, precision, recall, f1) \n",
    "            VALUES (:antimicrobial_id, :schema, :model_path, :create_at, :performance, :accuracy, :precision, :recall, :f1) \n",
    "            RETURNING id;\n",
    "            \"\"\")\n",
    "        \n",
    "        model_id_list = []\n",
    "        for new_row in rows_insert:\n",
    "            rs = con.execute(query, **new_row)\n",
    "            for row in rs:\n",
    "                model_id_list.append(row[0])\n",
    "    \n",
    "    # INSERT model_group\n",
    "    with conn.connect() as con:\n",
    "        query = sqlalchemy.text(\n",
    "            \"\"\"\n",
    "            INSERT INTO public.model_group(version, vitek_id) \n",
    "            VALUES (:version, :vitek_id) \n",
    "            RETURNING id;\n",
    "            \"\"\")\n",
    "        rs = con.execute(query, version=version, vitek_id=vitek_id)\n",
    "        \n",
    "        for row in rs:\n",
    "            model_group_id = row[0]\n",
    "    \n",
    "    # INSERT model_group_model \n",
    "    with conn.connect() as con:\n",
    "        query = sqlalchemy.text(\n",
    "            \"\"\"\n",
    "            INSERT INTO public.model_group_model(model_group_id, model_id) \n",
    "            VALUES (:model_group_id, :model_id) \n",
    "            \"\"\")\n",
    "        for model_id in model_id_list:\n",
    "            rs = con.execute(query, model_group_id=model_group_id, model_id=model_id)\n",
    "            \n",
    "    # INSERT model_group_file\n",
    "    with conn.connect() as con:\n",
    "        query = sqlalchemy.text(\n",
    "            \"\"\"\n",
    "            INSERT INTO public.model_group_file(file_id, model_group_id) \n",
    "            VALUES (:file_id, :model_group_id) \n",
    "            \"\"\")\n",
    "        for file_id in file_id_list:\n",
    "            rs = con.execute(query, file_id=file_id, model_group_id=model_group_id)\n",
    "    \n",
    "    return model_group_id"
   ]
  },
  {
   "cell_type": "code",
   "execution_count": 13,
   "metadata": {},
   "outputs": [],
   "source": [
    "def get_performance_model(vitek_id: int, version: int) -> Dict:\n",
    "    query = sqlalchemy.text(\n",
    "        \"\"\"\n",
    "        SELECT m.id, m.antimicrobial_id, m.performance\n",
    "        FROM public.model_group as mg\n",
    "        INNER JOIN public.model_group_model as mgm ON mgm.model_group_id = mg.id\n",
    "        INNER JOIN public.model as m ON m.id = mgm.model_id\n",
    "        WHERE vitek_id = :v_id AND version = :version\n",
    "        \"\"\")\n",
    "    performance = pd.read_sql_query(query, conn, params={\"v_id\": vitek_id, \"version\": version})\n",
    "    return [{\"model_id\": row[0], \"anti_id\": row[1], \"performance\": row[2]} for row in performance.values]"
   ]
  },
  {
   "cell_type": "code",
   "execution_count": 14,
   "metadata": {},
   "outputs": [],
   "source": [
    "def get_current_model_group_id(vitek_id: int, version: int):\n",
    "    query = sqlalchemy.text(\n",
    "        \"\"\"\n",
    "        SELECT id\n",
    "        FROM public.model_group\n",
    "        WHERE vitek_id = :v_id AND version = :version\n",
    "        \"\"\")\n",
    "    model_group_id = pd.read_sql_query(query, conn, params={\"v_id\": vitek_id, \"version\": version}).values[0][0]\n",
    "    return int(model_group_id)"
   ]
  },
  {
   "cell_type": "code",
   "execution_count": 15,
   "metadata": {},
   "outputs": [],
   "source": [
    "def get_model_group_model_id(mg_id: int, anti_id: int):\n",
    "    query = sqlalchemy.text(\n",
    "        \"\"\"\n",
    "        SELECT mgm.id\n",
    "        FROM public.model_group_model as mgm\n",
    "        INNER JOIN public.model as m ON m.id = mgm.model_id\n",
    "        WHERE model_group_id = :mg_id AND antimicrobial_id = :anti_id\n",
    "        \"\"\")\n",
    "    mgm_id = pd.read_sql_query(query, conn, params={\"mg_id\": mg_id, \"anti_id\": anti_id}).values[0][0]\n",
    "    return int(mgm_id)"
   ]
  },
  {
   "cell_type": "code",
   "execution_count": 16,
   "metadata": {},
   "outputs": [],
   "source": [
    "def update_model_current_version(vitek_id: int):\n",
    "    current_model_group_id = get_current_model_group_id(vitek_id=vitek_id, version=0)\n",
    "    performance_model = get_performance_model(vitek_id=vitek_id, version=lastest_version(vitek_id))\n",
    "    for perf in performance_model:\n",
    "        if perf[\"performance\"] == \"better\":\n",
    "            mgm_id = get_model_group_model_id(mg_id=current_model_group_id, anti_id=perf[\"anti_id\"])\n",
    "            with conn.connect() as con:\n",
    "                query = sqlalchemy.text(\n",
    "                    \"\"\"\n",
    "                    UPDATE public.model_group_model\n",
    "                    SET model_id = :model_id\n",
    "                    WHERE id = :id\n",
    "                    \"\"\")\n",
    "                rs = con.execute(query, model_id=perf[\"model_id\"], id=mgm_id)"
   ]
  },
  {
   "cell_type": "code",
   "execution_count": 17,
   "metadata": {},
   "outputs": [],
   "source": [
    "def get_model_configuration(anti_id: int):\n",
    "    query = sqlalchemy.text(\"SELECT * FROM public.model_configuration WHERE antimicrobial_id = :anti_id\")\n",
    "    config = pd.read_sql_query(query, conn, params={\"anti_id\": anti_id}).iloc[0]\n",
    "    model = eval(config[\"algorithm\"])(eval_metric=f1_score, \n",
    "                                 verbosity=0,  \n",
    "                                 use_label_encoder=False,\n",
    "                                 random_state=int(config[\"random_state\"]),\n",
    "                                 n_estimators=int(config[\"n_estimators\"]),\n",
    "                                 gamma=float(config[\"gamma\"]),\n",
    "                                 max_depth=int(config[\"max_depth\"]),\n",
    "                                 subsample=float(config[\"subsample\"]),\n",
    "                                 colsample_bytree=float(config[\"colsample_bytree\"]),\n",
    "                                 learning_rate=float(config[\"learning_rate\"])\n",
    "                                 )\n",
    "    smote_algo = {\n",
    "        \"SMOTE\": SMOTE,\n",
    "        \"R-SMOTE\": RSmoteKClasses,\n",
    "        \"Borderline-SMOTE\": BorderlineSMOTE,\n",
    "        \"SVM-SMOTE\": SVMSMOTE,\n",
    "        \"ADASYN\": ADASYN\n",
    "    }\n",
    "    smote = smote_algo[config[\"smote\"]](random_state=config[\"smote_random_state\"])\n",
    "    return model, smote"
   ]
  },
  {
   "cell_type": "code",
   "execution_count": 23,
   "metadata": {},
   "outputs": [],
   "source": [
    "vitek_id = 2\n",
    "table_report = table_gn if vitek_id == 1 else table_gp\n",
    "def training(vitek_id: int, table_report: pd.DataFrame, file_id_list: list):\n",
    "    \n",
    "    vitek = [\"GN\", \"GP\"][vitek_id - 1]\n",
    "    last_ver = lastest_version(vitek_id)\n",
    "    \n",
    "    # Get last model\n",
    "    last_model = get_model(vitek_id, last_ver)\n",
    "    \n",
    "    # Create model directory\n",
    "    dir_path = f\"./ml_model/{vitek}/version_{last_ver+1}\"\n",
    "    if not os.path.exists(dir_path):\n",
    "        os.makedirs(dir_path)\n",
    "    \n",
    "    # cols = [\"antimicrobial_id\", \"schema\", \"model_path\", \"create_at\", \"performance\", \"accuracy\", \"precision\", \"recall\", \"f1\"]\n",
    "    # rows_insert = pd.DataFrame(columns=cols)\n",
    "    rows_insert = []\n",
    "    \n",
    "    # Training\n",
    "    for anti_id, anti_name in get_antimicrobial_ans(vitek_id).items():\n",
    "        train, test = get_train_test(table_report, anti_id)\n",
    "        X_train = train[[\"species\", \"submitted_sample\", \"bacteria_genus\"] + \n",
    "            list(train.columns[train.columns.str.startswith(\"S/I/R_\")])]\n",
    "        X_test = test[[\"species\", \"submitted_sample\", \"bacteria_genus\"] + \n",
    "            list(test.columns[test.columns.str.startswith(\"S/I/R_\")])]\n",
    "        y_train = train[\"ans_\" + anti_name]\n",
    "        y_test = test[\"ans_\" + anti_name]\n",
    "\n",
    "        # One-Hot\n",
    "        X_train_dummies = pd.get_dummies(X_train)\n",
    "        X_test_dummies = get_dummies_dataframe_columns(X_train_dummies, pd.get_dummies(X_test))\n",
    "\n",
    "        # Get model config\n",
    "        model, smote = get_model_configuration(anti_id)\n",
    "        print(anti_id, anti_name, f\"train={len(y_train)}\", f\"test={len(y_test)}\")\n",
    "        # print(anti_id, anti_name, smote, len(y_train[y_train == True]), len(y_train[y_train == False]))\n",
    "        \n",
    "        test_bycase = get_test_bycase(table_report, vitek_id)\n",
    "        print(\"test_bycase\", len(test_bycase))\n",
    "\n",
    "        # SMOTE\n",
    "        # X_resampling, y_resampling = SMOTERounding(smote).fit_resample(X_train_dummies, y_train)\n",
    "\n",
    "        # # Fit model\n",
    "        # model = model.fit(X_resampling, y_resampling)\n",
    "\n",
    "        # # Evaluate model\n",
    "        # measure = evaluation(X_test_dummies, y_test, model)\n",
    "        \n",
    "        # # Dump model\n",
    "        # model_path = dir_path + f\"/{anti_name.replace('/','_')}.joblib\"\n",
    "        # joblib.dump(model, model_path)\n",
    "        \n",
    "        # # Compare new model with last model\n",
    "        # compare_result = compare_model_by_f1(X_test, y_test, last_model.loc[anti_id][\"model_path\"], \n",
    "        #                     eval(last_model.loc[anti_id][\"schema\"]), f1_new=measure[\"f1\"])\n",
    "\n",
    "        # # Data for insert\n",
    "        # row = {\n",
    "        #     \"antimicrobial_id\": anti_id,\n",
    "        #     \"schema\": str(list(X_test_dummies.columns)),\n",
    "        #     \"model_path\": model_path, \n",
    "        #     \"create_at\": datetime.datetime.now(), \n",
    "        #     \"performance\": compare_result, \n",
    "        #     \"accuracy\": measure[\"accuracy\"],\n",
    "        #     \"precision\": measure[\"precision\"],\n",
    "        #     \"recall\": measure[\"recall\"],\n",
    "        #     \"f1\": measure[\"f1\"]\n",
    "        # }\n",
    "        # rows_insert.append(row)\n",
    "        \n",
    "    # INSERT model\n",
    "    # rows_insert.to_sql('model', schema='public',\n",
    "    #                con=conn, if_exists='append', index=False)\n",
    "    \n",
    "    # INSERT model\n",
    "    # model_group_id = insert_into_db(rows_insert, file_id_list, last_ver+1, vitek_id)\n",
    "    \n",
    "    # # Test by case \n",
    "    # test_by_case_measure = test_by_case(vitek_id, last_ver+1, table_report)\n",
    "    \n",
    "    # # UPDATE model_group\n",
    "    # with conn.connect() as con:\n",
    "    #     query = sqlalchemy.text(\n",
    "    #         \"\"\"\n",
    "    #         UPDATE public.model_group\n",
    "    #         SET accuracy=:accuracy, precision=:precision, recall=:recall, f1=:f1\n",
    "    #         WHERE id = :id\n",
    "    #         \"\"\")\n",
    "    #     rs = con.execute(query, accuracy=test_by_case_measure[\"accuracy\"], \n",
    "    #             precision=test_by_case_measure[\"precision\"], \n",
    "    #             recall=test_by_case_measure[\"recall\"], \n",
    "    #             f1=test_by_case_measure[\"f1\"], id=model_group_id)\n",
    "    \n",
    "    # # UPDATE model current version\n",
    "    # update_model_current_version(vitek_id)\n",
    "        \n",
    "    return rows_insert"
   ]
  },
  {
   "cell_type": "code",
   "execution_count": 47,
   "metadata": {},
   "outputs": [
    {
     "data": {
      "text/html": [
       "<div>\n",
       "<style scoped>\n",
       "    .dataframe tbody tr th:only-of-type {\n",
       "        vertical-align: middle;\n",
       "    }\n",
       "\n",
       "    .dataframe tbody tr th {\n",
       "        vertical-align: top;\n",
       "    }\n",
       "\n",
       "    .dataframe thead th {\n",
       "        text-align: right;\n",
       "    }\n",
       "</style>\n",
       "<table border=\"1\" class=\"dataframe\">\n",
       "  <thead>\n",
       "    <tr style=\"text-align: right;\">\n",
       "      <th></th>\n",
       "      <th>accuracy</th>\n",
       "      <th>percision</th>\n",
       "      <th>recall</th>\n",
       "      <th>f1</th>\n",
       "    </tr>\n",
       "  </thead>\n",
       "  <tbody>\n",
       "    <tr>\n",
       "      <th>22</th>\n",
       "      <td>0.982353</td>\n",
       "      <td>0.870968</td>\n",
       "      <td>0.84375</td>\n",
       "      <td>0.857143</td>\n",
       "    </tr>\n",
       "  </tbody>\n",
       "</table>\n",
       "</div>"
      ],
      "text/plain": [
       "    accuracy  percision   recall        f1\n",
       "22  0.982353   0.870968  0.84375  0.857143"
      ]
     },
     "execution_count": 47,
     "metadata": {},
     "output_type": "execute_result"
    }
   ],
   "source": [
    "training(vitek_id, table_report)[1]"
   ]
  },
  {
   "cell_type": "code",
   "execution_count": null,
   "metadata": {},
   "outputs": [],
   "source": [
    "train, test = get_train_test(table_report, 1)\n",
    "X_train = train[[\"species\", \"submitted_sample\", \"bacteria_genus\"] + \n",
    "    list(train.columns[train.columns.str.startswith(\"S/I/R_\")])]\n",
    "X_test = test[[\"species\", \"submitted_sample\", \"bacteria_genus\"] + \n",
    "    list(test.columns[test.columns.str.startswith(\"S/I/R_\")])]\n",
    "y_train = train[\"ans_\" + \"amikacin\"]\n",
    "y_test = test[\"ans_\" + \"amikacin\"]"
   ]
  },
  {
   "cell_type": "code",
   "execution_count": 24,
   "metadata": {},
   "outputs": [
    {
     "name": "stdout",
     "output_type": "stream",
     "text": [
      "1 amikacin train=2420 test=605\n",
      "test_bycase 296\n",
      "2 amoxicillin/clavulanic acid train=2420 test=605\n",
      "test_bycase 296\n",
      "3 cefalexin train=2420 test=605\n",
      "test_bycase 296\n",
      "4 cefovecin train=2420 test=605\n",
      "test_bycase 296\n",
      "5 doxycycline train=2420 test=605\n",
      "test_bycase 296\n",
      "6 enrofloxacin train=2420 test=605\n",
      "test_bycase 296\n",
      "7 gentamicin train=2420 test=605\n",
      "test_bycase 296\n",
      "8 imipenem train=2420 test=605\n",
      "test_bycase 296\n",
      "9 marbofloxacin train=2420 test=605\n",
      "test_bycase 296\n",
      "10 nitrofurantoin train=2420 test=605\n",
      "test_bycase 296\n",
      "11 trimethoprim/sulfamethoxazole train=2420 test=605\n",
      "test_bycase 296\n"
     ]
    }
   ],
   "source": [
    "vitek_id = 1\n",
    "result = training(vitek_id, table_csv[\"GN\"].table, table_csv[\"GN\"].file_id)"
   ]
  },
  {
   "cell_type": "code",
   "execution_count": 29,
   "metadata": {},
   "outputs": [
    {
     "name": "stdout",
     "output_type": "stream",
     "text": [
      "1 amikacin train=4673 test=1169\n",
      "test_bycase 296\n",
      "2 amoxicillin/clavulanic acid train=4673 test=1169\n",
      "test_bycase 296\n",
      "3 cefalexin train=4673 test=1169\n",
      "test_bycase 296\n",
      "4 cefovecin train=4673 test=1169\n",
      "test_bycase 296\n",
      "5 doxycycline train=4673 test=1169\n",
      "test_bycase 296\n",
      "6 enrofloxacin train=4673 test=1169\n",
      "test_bycase 296\n",
      "7 gentamicin train=4673 test=1169\n",
      "test_bycase 296\n",
      "8 imipenem train=4673 test=1169\n",
      "test_bycase 296\n",
      "9 marbofloxacin train=4673 test=1169\n",
      "test_bycase 296\n",
      "10 nitrofurantoin train=4673 test=1169\n",
      "test_bycase 296\n",
      "11 trimethoprim/sulfamethoxazole train=4673 test=1169\n",
      "test_bycase 296\n"
     ]
    }
   ],
   "source": [
    "vitek_id = 1\n",
    "result = training(vitek_id, table_csv[\"GN\"].table, table_csv[\"GN\"].file_id)"
   ]
  },
  {
   "cell_type": "code",
   "execution_count": 25,
   "metadata": {},
   "outputs": [
    {
     "name": "stdout",
     "output_type": "stream",
     "text": [
      "12 amikacin train=2038 test=510\n",
      "test_bycase 263\n",
      "13 amoxicillin/clavulanic acid train=2038 test=510\n",
      "test_bycase 263\n",
      "14 cefalexin train=2038 test=510\n",
      "test_bycase 263\n",
      "15 cefovecin train=2038 test=510\n",
      "test_bycase 263\n",
      "16 clindamycin train=2038 test=510\n",
      "test_bycase 263\n",
      "17 doxycycline train=2038 test=510\n",
      "test_bycase 263\n",
      "18 enrofloxacin train=2038 test=510\n",
      "test_bycase 263\n",
      "19 marbofloxacin train=2038 test=510\n",
      "test_bycase 263\n",
      "20 nitrofurantoin train=2038 test=510\n",
      "test_bycase 263\n",
      "21 trimethoprim/sulfamethoxazole train=2038 test=510\n",
      "test_bycase 263\n",
      "22 vancomycin train=2038 test=510\n",
      "test_bycase 263\n"
     ]
    }
   ],
   "source": [
    "vitek_id = 2\n",
    "result = training(vitek_id, table_csv[\"GP\"].table, table_csv[\"GP\"].file_id)"
   ]
  },
  {
   "cell_type": "markdown",
   "metadata": {},
   "source": [
    "#### Test By Case"
   ]
  },
  {
   "cell_type": "code",
   "execution_count": 19,
   "metadata": {},
   "outputs": [],
   "source": [
    "def get_test_bycase(table: pd.DataFrame, vitek_id: int):\n",
    "    query_test_id = sqlalchemy.text(\"SELECT id FROM public.report WHERE type = 'test' AND vitek_id = :v_id\")\n",
    "    test_id = pd.read_sql_query(query_test_id, conn, params={\"v_id\": vitek_id})\n",
    "    df_test = table.loc[test_id['id']]\n",
    "    return df_test"
   ]
  },
  {
   "cell_type": "code",
   "execution_count": 20,
   "metadata": {},
   "outputs": [],
   "source": [
    "def get_model(vitek_id: int, version: int):\n",
    "    query_model = sqlalchemy.text(\"\"\"SELECT ans.id, ans.name, model_path, schema\n",
    "        FROM public.model_group as mg\n",
    "        INNER JOIN public.model_group_model as mgm ON mgm.model_group_id = mg.id\n",
    "        INNER JOIN public.model as m ON m.id = mgm.model_id\n",
    "        INNER JOIN public.antimicrobial_answer as ans ON ans.id = m.antimicrobial_id\n",
    "        WHERE mg.version = :version AND mg.vitek_id = :v_id\n",
    "        ORDER BY ans.name\"\"\")\n",
    "    model = pd.read_sql_query(query_model, conn, params={\"version\": version, \"v_id\": vitek_id})\n",
    "    model.set_index(\"id\", inplace=True)\n",
    "    return model"
   ]
  },
  {
   "cell_type": "code",
   "execution_count": 21,
   "metadata": {},
   "outputs": [],
   "source": [
    "def evaluate_by_case(ans_df: pd.DataFrame, predict_df: pd.DataFrame):\n",
    "    row = len(ans_df)\n",
    "    acc_sum = 0\n",
    "    prec_sum = 0\n",
    "    rec_sum = 0\n",
    "    f1_sum = 0\n",
    "    for i in range(row):\n",
    "        if ans_df.iloc[i].any() == False: # no recommend case\n",
    "            if predict_df.iloc[i].any() == False:\n",
    "                score = 1\n",
    "            else:\n",
    "                score = 0\n",
    "            acc_sum += accuracy_score(ans_df.iloc[i], predict_df.iloc[i])\n",
    "            prec_sum += score\n",
    "            rec_sum += score\n",
    "            f1_sum += score\n",
    "        else: # normal case\n",
    "            if predict_df.iloc[i].any() == False:\n",
    "                prec_score = 0\n",
    "            else:\n",
    "                prec_score = precision_score(ans_df.iloc[i], predict_df.iloc[i])\n",
    "            acc_sum += accuracy_score(ans_df.iloc[i], predict_df.iloc[i])\n",
    "            prec_sum += prec_score\n",
    "            rec_sum += recall_score(ans_df.iloc[i], predict_df.iloc[i])\n",
    "            f1_sum += f1_score(ans_df.iloc[i], predict_df.iloc[i])\n",
    "\n",
    "    return {\n",
    "        \"accuracy\": acc_sum/row,\n",
    "        \"precision\": prec_sum/row,\n",
    "        \"recall\": rec_sum/row,\n",
    "        \"f1\": f1_sum/row \n",
    "    }"
   ]
  },
  {
   "cell_type": "code",
   "execution_count": 22,
   "metadata": {},
   "outputs": [],
   "source": [
    "def test_by_case(vitek_id: int, version: int, table_report: pd.DataFrame):\n",
    "    anti_ans = [\"ans_\" + anti_name for anti_name in get_antimicrobial_ans(vitek_id).values()] # antimicrobial answer startswith \"ans_\"\n",
    "    test_bycase = get_test_bycase(table_report, vitek_id) # get test by case report \n",
    "    X_bycase = test_bycase[[\"species\", \"submitted_sample\", \"bacteria_genus\"] + \n",
    "        list(test_bycase.columns[test_bycase.columns.str.startswith(\"S/I/R_\")])] # feature\n",
    "    y_bycase = test_bycase[list(test_bycase.columns[test_bycase.columns.isin(anti_ans)])] # answer\n",
    "    \n",
    "    models = [[\"ans_\" + row[0], joblib.load(row[1]), eval(row[2])] for row in get_model(vitek_id, version).values] # load model\n",
    "    df_predict = pd.DataFrame()\n",
    "    \n",
    "    for model in models:\n",
    "        df_schema = pd.DataFrame(columns=model[2]) # create schema\n",
    "        X_dummies = get_dummies_dataframe_columns(df_schema, pd.get_dummies(X_bycase)) # one-hot\n",
    "        df_predict[model[0]] = model[1].predict(X_dummies) # predict\n",
    "        \n",
    "    return evaluate_by_case(y_bycase, df_predict)"
   ]
  },
  {
   "cell_type": "code",
   "execution_count": 24,
   "metadata": {},
   "outputs": [],
   "source": [
    "table_csv = {'GN': TableToCsv(conn, 1), 'GP': TableToCsv(conn, 2)}\n",
    "table_gn = binning_less_than(table_csv[\"GN\"].table, \"submitted_sample\", 10)\n",
    "table_gp = binning_less_than(table_csv[\"GP\"].table, \"submitted_sample\", 10)"
   ]
  },
  {
   "cell_type": "code",
   "execution_count": null,
   "metadata": {},
   "outputs": [],
   "source": [
    "vitek_id = 1\n",
    "version = 0\n",
    "table_report = table_gn if vitek_id == 1 else table_gp\n",
    "\n",
    "test_by_case(vitek_id, version, table_report) # test by case"
   ]
  },
  {
   "cell_type": "code",
   "execution_count": null,
   "metadata": {},
   "outputs": [],
   "source": []
  }
 ],
 "metadata": {
  "interpreter": {
   "hash": "f2ff73c099904bfd0440dd54f5a751e3031692e0250287e8e26176ee6aa5c30b"
  },
  "kernelspec": {
   "display_name": "Python 3.8.11 ('base')",
   "language": "python",
   "name": "python3"
  },
  "language_info": {
   "codemirror_mode": {
    "name": "ipython",
    "version": 3
   },
   "file_extension": ".py",
   "mimetype": "text/x-python",
   "name": "python",
   "nbconvert_exporter": "python",
   "pygments_lexer": "ipython3",
   "version": "3.8.11"
  },
  "orig_nbformat": 4
 },
 "nbformat": 4,
 "nbformat_minor": 2
}
